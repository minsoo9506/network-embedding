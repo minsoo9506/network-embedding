{
 "cells": [
  {
   "cell_type": "code",
   "execution_count": 1,
   "metadata": {},
   "outputs": [],
   "source": [
    "import pandas as pd\n",
    "import numpy as np\n",
    "from typing import List"
   ]
  },
  {
   "cell_type": "code",
   "execution_count": 2,
   "metadata": {},
   "outputs": [],
   "source": [
    "adj = pd.read_csv('adj.txt', header=None)\n",
    "# make adj matrix\n",
    "adj_matrix = np.zeros((len(adj),len(adj)))\n",
    "for i in range(len(adj)):\n",
    "    for j in range(len(adj)):\n",
    "        if i == j:\n",
    "            continue\n",
    "        if str(j) in adj.iloc[i,0].split(' '):\n",
    "            adj_matrix[i,j] = 1\n",
    "            adj_matrix[j,i] = 1\n",
    "# label            \n",
    "label = np.loadtxt('karate_label.txt')"
   ]
  },
  {
   "cell_type": "code",
   "execution_count": 27,
   "metadata": {},
   "outputs": [
    {
     "data": {
      "text/plain": [
       "array([[0., 1., 1., ..., 1., 0., 0.],\n",
       "       [1., 0., 1., ..., 0., 0., 0.],\n",
       "       [1., 1., 0., ..., 0., 1., 0.],\n",
       "       ...,\n",
       "       [1., 0., 0., ..., 0., 1., 1.],\n",
       "       [0., 0., 1., ..., 1., 0., 1.],\n",
       "       [0., 0., 0., ..., 1., 1., 0.]])"
      ]
     },
     "execution_count": 27,
     "metadata": {},
     "output_type": "execute_result"
    }
   ],
   "source": [
    "adj_matrix"
   ]
  },
  {
   "cell_type": "code",
   "execution_count": 4,
   "metadata": {},
   "outputs": [
    {
     "data": {
      "text/plain": [
       "array([[ 0.,  1.],\n",
       "       [ 1.,  1.],\n",
       "       [ 2.,  1.],\n",
       "       [ 3.,  1.],\n",
       "       [ 4.,  1.],\n",
       "       [ 5.,  1.],\n",
       "       [ 6.,  1.],\n",
       "       [ 7.,  1.],\n",
       "       [ 8.,  0.],\n",
       "       [ 9.,  0.],\n",
       "       [10.,  1.],\n",
       "       [11.,  1.],\n",
       "       [12.,  1.],\n",
       "       [13.,  1.],\n",
       "       [14.,  0.],\n",
       "       [15.,  0.],\n",
       "       [16.,  1.],\n",
       "       [17.,  1.],\n",
       "       [18.,  0.],\n",
       "       [19.,  1.],\n",
       "       [20.,  0.],\n",
       "       [21.,  1.],\n",
       "       [22.,  0.],\n",
       "       [23.,  0.],\n",
       "       [24.,  0.],\n",
       "       [25.,  0.],\n",
       "       [26.,  0.],\n",
       "       [27.,  0.],\n",
       "       [28.,  0.],\n",
       "       [29.,  0.],\n",
       "       [30.,  0.],\n",
       "       [31.,  0.],\n",
       "       [32.,  0.],\n",
       "       [33.,  0.]])"
      ]
     },
     "execution_count": 4,
     "metadata": {},
     "output_type": "execute_result"
    }
   ],
   "source": [
    "label"
   ]
  },
  {
   "cell_type": "code",
   "execution_count": 12,
   "metadata": {},
   "outputs": [],
   "source": [
    "class DeepWalk:\n",
    "    def __init__(self,\n",
    "                 adj_matrix,\n",
    "                 embedding_dim=2,\n",
    "                 walks_per_vertex=5,\n",
    "                 walk_len=10,\n",
    "                 window_size=3,\n",
    "                 learning_rate=0.02):\n",
    "        \n",
    "        self.adj_matrix = adj_matrix\n",
    "        self.embedding_dim = embedding_dim\n",
    "        self.walks_per_vertex = walks_per_vertex\n",
    "        self.walk_len = walk_len\n",
    "        self.window_size = window_size\n",
    "        self.learning_rate = learning_rate\n",
    "        \n",
    "        self.w1 = np.random.rand(len(adj_matrix),embedding_dim)\n",
    "        self.w2 = np.random.rand(embedding_dim,len(adj_matrix))\n",
    "        \n",
    "        self.epoch_loss = 0.0\n",
    "    \n",
    "    def _random_walk(self, start_node: int)-> List:\n",
    "        walk = [0] * self.walk_len\n",
    "        walk[0] = start_node\n",
    "        node = start_node\n",
    "        for i in range(1, self.walk_len):\n",
    "            next_node = np.random.choice(np.where(self.adj_matrix[node]==1)[0])\n",
    "            walk[i] = next_node\n",
    "            node = next_node\n",
    "        return walk\n",
    "\n",
    "    def _softmax(self, a: np.array)-> np.array : \n",
    "        c = np.max(a) \n",
    "        exp_a = np.exp(a-c)\n",
    "        sum_exp_a = np.sum(exp_a)\n",
    "        y = exp_a / sum_exp_a\n",
    "        return y\n",
    "\n",
    "    def _skip_gram_train(self, walk: List)-> None:\n",
    "        for idx, input_node in enumerate(walk):\n",
    "            # make dataset\n",
    "            left_idx = idx - 3\n",
    "            right_idx = idx + 3\n",
    "            if left_idx < 0: left_idx = 0\n",
    "            if right_idx > self.walk_len-1: right_idx = self.walk_len\n",
    "            left_node = walk[left_idx:idx]\n",
    "            right_node = walk[idx+1:right_idx+1]\n",
    "            output_node = left_node + right_node\n",
    "\n",
    "            # forward\n",
    "            hidden = self.w1[input_node]\n",
    "            ## |hidden| = (2,)\n",
    "            out = np.matmul(hidden, self.w2)\n",
    "            ## |out| = (34,)\n",
    "\n",
    "            # loss calculate\n",
    "            self.epoch_loss += (-np.sum(out[output_node]) \\\n",
    "                                   + len(output_node)*np.log(np.sum(np.exp(out))))\\\n",
    "                                / (self.walk_len*self.walks_per_vertex*len(self.adj_matrix)) \n",
    "\n",
    "            # backprop and optimize\n",
    "            dEdo = self._softmax(out) * len(output_node)\n",
    "            dEdo[output_node] = dEdo[output_node] - 1.0 - self._softmax(out)[output_node]\n",
    "            dEdw2 = np.matmul(hidden.reshape(2,1), dEdo.reshape(1,34))\n",
    "            self.w2 = self.w2 - self.learning_rate * dEdw2\n",
    "            self.w1[input_node] = self.w1[input_node] - \\\n",
    "                self.learning_rate * np.matmul(self.w2, dEdo)\n",
    "\n",
    "    def train(self)-> float:\n",
    "        self.epoch_loss = 0.0\n",
    "        V = np.arange(0, len(self.adj_matrix))\n",
    "        for _ in range(self.walks_per_vertex):\n",
    "            # shuffle vertex\n",
    "            np.random.shuffle(V)\n",
    "            for start_node in V:\n",
    "                # random walk\n",
    "                W = self._random_walk(start_node)\n",
    "                # skip-gram\n",
    "                self._skip_gram_train(W)\n",
    "        return self.epoch_loss\n",
    "    \n",
    "    def show_embedding(self):\n",
    "        return self.w1, self.w2"
   ]
  },
  {
   "cell_type": "code",
   "execution_count": 40,
   "metadata": {},
   "outputs": [
    {
     "name": "stdout",
     "output_type": "stream",
     "text": [
      "Epoch:1, loss=16.618\n",
      "Epoch:2, loss=16.245\n",
      "Epoch:3, loss=16.046\n",
      "Epoch:4, loss=15.907\n",
      "Epoch:5, loss=15.640\n",
      "Epoch:6, loss=15.697\n",
      "Epoch:7, loss=15.219\n",
      "Epoch:8, loss=15.149\n",
      "Epoch:9, loss=14.874\n",
      "Epoch:10, loss=14.770\n",
      "Epoch:11, loss=14.622\n",
      "Epoch:12, loss=14.334\n",
      "Epoch:13, loss=14.164\n",
      "Epoch:14, loss=14.399\n",
      "Epoch:15, loss=14.183\n",
      "Epoch:16, loss=13.918\n",
      "Epoch:17, loss=14.000\n",
      "Epoch:18, loss=14.064\n",
      "Epoch:19, loss=13.941\n",
      "Epoch:20, loss=13.958\n",
      "Epoch:21, loss=13.708\n",
      "Epoch:22, loss=13.773\n",
      "Epoch:23, loss=13.996\n",
      "Epoch:24, loss=13.893\n",
      "Epoch:25, loss=14.001\n",
      "Epoch:26, loss=13.897\n",
      "Epoch:27, loss=13.775\n",
      "Epoch:28, loss=13.970\n",
      "Epoch:29, loss=14.071\n",
      "Epoch:30, loss=13.801\n"
     ]
    }
   ],
   "source": [
    "model = DeepWalk(adj_matrix, walks_per_vertex=3, walk_len=10, window_size=3, learning_rate=0.003)\n",
    "n_epochs = 30\n",
    "losses = []\n",
    "# train\n",
    "for i in range(1, n_epochs+1):\n",
    "    loss = model.train()\n",
    "    losses.append(loss)\n",
    "    print(f'Epoch:{i}, loss={loss:.3f}')"
   ]
  },
  {
   "cell_type": "code",
   "execution_count": 41,
   "metadata": {},
   "outputs": [
    {
     "data": {
      "text/plain": [
       "[<matplotlib.lines.Line2D at 0x12d9b4ca580>]"
      ]
     },
     "execution_count": 41,
     "metadata": {},
     "output_type": "execute_result"
    },
    {
     "data": {
      "image/png": "[encoded data removed]",
      "text/plain": [
       "<Figure size 432x288 with 1 Axes>"
      ]
     },
     "metadata": {
      "needs_background": "light"
     },
     "output_type": "display_data"
    }
   ],
   "source": [
    "import matplotlib.pyplot as plt\n",
    "plt.title('loss')\n",
    "plt.plot(losses)"
   ]
  },
  {
   "cell_type": "code",
   "execution_count": 42,
   "metadata": {},
   "outputs": [],
   "source": [
    "embedding_matrix, _ = model.show_embedding()"
   ]
  },
  {
   "cell_type": "code",
   "execution_count": 43,
   "metadata": {},
   "outputs": [
    {
     "data": {
      "text/plain": [
       "(34, 2)"
      ]
     },
     "execution_count": 43,
     "metadata": {},
     "output_type": "execute_result"
    }
   ],
   "source": [
    "embedding_matrix.shape"
   ]
  },
  {
   "cell_type": "code",
   "execution_count": 44,
   "metadata": {},
   "outputs": [
    {
     "data": {
      "image/png": "[encoded data removed]",
      "text/plain": [
       "<Figure size 432x288 with 1 Axes>"
      ]
     },
     "metadata": {
      "needs_background": "light"
     },
     "output_type": "display_data"
    }
   ],
   "source": [
    "plt.title('2-dim DeepWalk embedding')\n",
    "plt.scatter(embedding_matrix[:,0],embedding_matrix[:,1], c=list(map(int, label[:,1])))\n",
    "for i in range(0, 34):\n",
    "        plt.text(float(embedding_matrix[i,0]), float(embedding_matrix[i,1]), i+1 , fontsize=10)\n",
    "plt.show()"
   ]
  }
 ],
 "metadata": {
  "kernelspec": {
   "display_name": "Python 3",
   "language": "python",
   "name": "python3"
  },
  "language_info": {
   "codemirror_mode": {
    "name": "ipython",
    "version": 3
   },
   "file_extension": ".py",
   "mimetype": "text/x-python",
   "name": "python",
   "nbconvert_exporter": "python",
   "pygments_lexer": "ipython3",
   "version": "3.8.3"
  }
 },
 "nbformat": 4,
 "nbformat_minor": 4
}
