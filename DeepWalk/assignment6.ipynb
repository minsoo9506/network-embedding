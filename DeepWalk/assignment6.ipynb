{
 "cells": [
  {
   "cell_type": "code",
   "execution_count": 1,
   "metadata": {},
   "outputs": [],
   "source": [
    "import pandas as pd\n",
    "import numpy as np\n",
    "from typing import List"
   ]
  },
  {
   "cell_type": "code",
   "execution_count": 2,
   "metadata": {},
   "outputs": [],
   "source": [
    "adj = pd.read_csv('adj.txt', header=None)\n",
    "# make adj matrix\n",
    "adj_matrix = np.zeros((len(adj),len(adj)))\n",
    "for i in range(len(adj)):\n",
    "    for j in range(len(adj)):\n",
    "        if i == j:\n",
    "            continue\n",
    "        if str(j) in adj.iloc[i,0].split(' '):\n",
    "            adj_matrix[i,j] = 1\n",
    "            adj_matrix[j,i] = 1\n",
    "# label            \n",
    "label = np.loadtxt('karate_label.txt')"
   ]
  },
  {
   "cell_type": "code",
   "execution_count": 204,
   "metadata": {},
   "outputs": [],
   "source": [
    "class Node:\n",
    "    def __init__(self,value):\n",
    "        self.value = value\n",
    "        self.left = None\n",
    "        self.right = None\n",
    "        \n",
    "class BinaryTree:\n",
    "    def __init__(self,head):\n",
    "        self.head = head\n",
    "        self.left= None\n",
    "        self.right= None\n",
    "    \n",
    "    def insert(self,key):\n",
    "        self.current_node = self.head\n",
    "        \n",
    "        while True:\n",
    "            if key < self.current_node.value:\n",
    "                if self.current_node.left != None:\n",
    "                    self.current_node = self.current_node.left\n",
    "                else :\n",
    "                    self.current_node.left = Node(key)\n",
    "                    break\n",
    "            else :\n",
    "                if self.current_node.right !=None:\n",
    "                    self.current_node = self.current_node.right\n",
    "                else :\n",
    "                    self.current_node.right = Node(key)\n",
    "                    break\n",
    "    \n",
    "    def path(self,key):        \n",
    "        self.current_node = self.head\n",
    "        path_list = []\n",
    "        way_list = []\n",
    "        while key>1:\n",
    "            if key%2 ==0:\n",
    "                path_list.append(int(key/2))\n",
    "                way_list.append(1)\n",
    "            else :\n",
    "                path_list.append(int((key-1)/2))\n",
    "                way_list.append(-1)\n",
    "            key = int(key/2)\n",
    "        return np.flip(path_list), np.flip(way_list)"
   ]
  },
  {
   "cell_type": "code",
   "execution_count": 221,
   "metadata": {},
   "outputs": [],
   "source": [
    "vec = []\n",
    "start = np.random.rand(2)\n",
    "vec.append(start)\n",
    "head = Node(0)\n",
    "h_Softmax_tree = BinaryTree(head)\n",
    "\n",
    "V = 34\n",
    "for key in range(1,2*34-1):\n",
    "    tree_node = np.random.rand(2)\n",
    "    vec.append(tree_node)\n",
    "    h_Softmax_tree.insert(key)"
   ]
  },
  {
   "cell_type": "code",
   "execution_count": 222,
   "metadata": {},
   "outputs": [],
   "source": [
    "path, left_right = h_Softmax_tree.path(5)"
   ]
  },
  {
   "cell_type": "code",
   "execution_count": 223,
   "metadata": {},
   "outputs": [
    {
     "data": {
      "text/plain": [
       "array([1, 2])"
      ]
     },
     "execution_count": 223,
     "metadata": {},
     "output_type": "execute_result"
    }
   ],
   "source": [
    "path"
   ]
  },
  {
   "cell_type": "code",
   "execution_count": 224,
   "metadata": {},
   "outputs": [
    {
     "data": {
      "text/plain": [
       "array([ 1, -1])"
      ]
     },
     "execution_count": 224,
     "metadata": {},
     "output_type": "execute_result"
    }
   ],
   "source": [
    "left_right"
   ]
  },
  {
   "cell_type": "code",
   "execution_count": 225,
   "metadata": {},
   "outputs": [
    {
     "data": {
      "text/plain": [
       "[array([0.59197586, 0.6880471 ]),\n",
       " array([0.8032963 , 0.09503118]),\n",
       " array([0.96913092, 0.52184231])]"
      ]
     },
     "execution_count": 225,
     "metadata": {},
     "output_type": "execute_result"
    }
   ],
   "source": [
    "vec[:3]"
   ]
  },
  {
   "cell_type": "code",
   "execution_count": 340,
   "metadata": {},
   "outputs": [],
   "source": [
    "class DeepWalk:\n",
    "    def __init__(self,\n",
    "                 adj_matrix,\n",
    "                 embedding_dim=2,\n",
    "                 walks_per_vertex=5,\n",
    "                 walk_len=10,\n",
    "                 window_size=3,\n",
    "                 learning_rate=0.02):\n",
    "        \n",
    "        self.adj_matrix = adj_matrix\n",
    "        self.embedding_dim = embedding_dim\n",
    "        self.walks_per_vertex = walks_per_vertex\n",
    "        self.walk_len = walk_len\n",
    "        self.window_size = window_size\n",
    "        self.learning_rate = learning_rate\n",
    "        \n",
    "        self.w1 = np.random.rand(len(adj_matrix),embedding_dim)\n",
    "        \n",
    "        self.loss = 0.0\n",
    "        self.epoch_loss = []\n",
    "        self.epoch_loss_de = len(self.adj_matrix)\n",
    "    \n",
    "        # randomly initialize\n",
    "        # make binary tree\n",
    "        self.vec = []\n",
    "        start = np.random.rand(embedding_dim)\n",
    "        vec.append(start)\n",
    "        head = Node(0)\n",
    "        self.h_softmax_tree = BinaryTree(head)\n",
    "\n",
    "        V = len(adj_matrix)\n",
    "        for key in range(1,2*V-1):\n",
    "            tree_node = np.random.rand(embedding_dim)\n",
    "            self.vec.append(tree_node)\n",
    "            self.h_softmax_tree.insert(key)\n",
    "    \n",
    "    def _sigmoid(x):\n",
    "        return 1/(1+np.exp(-x))\n",
    "    \n",
    "    def _random_walk(self, start_node: int)-> List:\n",
    "        walk = [0] * self.walk_len\n",
    "        walk[0] = start_node\n",
    "        node = start_node\n",
    "        for i in range(1, self.walk_len):\n",
    "            next_node = np.random.choice(np.where(self.adj_matrix[node]==1)[0])\n",
    "            walk[i] = next_node\n",
    "            node = next_node\n",
    "        return walk\n",
    "\n",
    "    def _skip_gram_train(self, walk: List)-> None:\n",
    "        for idx, input_node in enumerate(walk):\n",
    "            # make dataset\n",
    "            left_idx = idx - 3\n",
    "            right_idx = idx + 3\n",
    "            if left_idx < 0: left_idx = 0\n",
    "            if right_idx > self.walk_len-1: right_idx = self.walk_len\n",
    "            left_node = walk[left_idx:idx]\n",
    "            right_node = walk[idx+1:right_idx+1]\n",
    "            output_nodes = left_node + right_node\n",
    "\n",
    "            # train\n",
    "            hidden = self.w1[input_node]\n",
    "            for output_node in output_nodes:\n",
    "                # get path\n",
    "                path, left_right = self.h_softmax_tree.path(index_to_key(output_node))\n",
    "                tmp = [self.vec[i] for i in path] @ hidden\n",
    "                # calcuate epoch loss\n",
    "                self.loss = - np.sum(np.log(sigmoid(tmp * left_right))) / self.epoch_loss_de\n",
    "                # backprop, optimization\n",
    "                left_right = [1 if i==1 else 0 for i in left_right] \n",
    "                EH = 0\n",
    "                for i, path_val in enumerate(path):\n",
    "                    tmp = sigmoid(self.vec[path_val] @ hidden) - left_right[i]\n",
    "                    EH += self.vec[path_val] * tmp\n",
    "                    self.vec[path_val] = self.vec[path_val] - self.learning_rate * tmp * hidden\n",
    "                self.w1[input_node] = self.w1[input_node] - self.learning_rate * EH            \n",
    "\n",
    "    def train(self)-> float:\n",
    "        V = np.arange(0, len(self.adj_matrix))\n",
    "        for _ in range(self.walks_per_vertex):\n",
    "            # shuffle vertex\n",
    "            np.random.shuffle(V)\n",
    "            for start_node in V:\n",
    "                # random walk\n",
    "                W = self._random_walk(start_node)\n",
    "                # skip-gram\n",
    "                self._skip_gram_train(W)\n",
    "            # consider epoch as if all node be start_node\n",
    "            self.epoch_loss.append(self.loss)\n",
    "            self.loss = 0.0\n",
    "        return self.epoch_loss\n",
    "    \n",
    "    def show_embedding(self):\n",
    "        return self.w1"
   ]
  },
  {
   "cell_type": "code",
   "execution_count": 392,
   "metadata": {},
   "outputs": [],
   "source": [
    "model = DeepWalk(adj_matrix, walks_per_vertex=5, walk_len=10, window_size=3, learning_rate=0.02)\n",
    "loss = model.train()"
   ]
  },
  {
   "cell_type": "code",
   "execution_count": 393,
   "metadata": {},
   "outputs": [
    {
     "data": {
      "text/plain": [
       "[<matplotlib.lines.Line2D at 0x25223cbc6a0>]"
      ]
     },
     "execution_count": 393,
     "metadata": {},
     "output_type": "execute_result"
    },
    {
     "data": {
      "image/png": "[encoded data removed]",
      "text/plain": [
       "<Figure size 432x288 with 1 Axes>"
      ]
     },
     "metadata": {
      "needs_background": "light"
     },
     "output_type": "display_data"
    }
   ],
   "source": [
    "import matplotlib.pyplot as plt\n",
    "plt.title('loss')\n",
    "plt.plot(loss)"
   ]
  },
  {
   "cell_type": "code",
   "execution_count": 394,
   "metadata": {},
   "outputs": [],
   "source": [
    "embedding_matrix = model.show_embedding()"
   ]
  },
  {
   "cell_type": "code",
   "execution_count": 395,
   "metadata": {},
   "outputs": [
    {
     "data": {
      "image/png": "[encoded data removed]",
      "text/plain": [
       "<Figure size 432x288 with 1 Axes>"
      ]
     },
     "metadata": {
      "needs_background": "light"
     },
     "output_type": "display_data"
    }
   ],
   "source": [
    "plt.title('2-dim DeepWalk embedding')\n",
    "plt.scatter(embedding_matrix[:,0],embedding_matrix[:,1], c=list(map(int, label[:,1])))\n",
    "for i in range(0, 34):\n",
    "        plt.text(float(embedding_matrix[i,0]), float(embedding_matrix[i,1]), i+1 , fontsize=10)\n",
    "plt.show()"
   ]
  }
 ],
 "metadata": {
  "kernelspec": {
   "display_name": "Python 3",
   "language": "python",
   "name": "python3"
  },
  "language_info": {
   "codemirror_mode": {
    "name": "ipython",
    "version": 3
   },
   "file_extension": ".py",
   "mimetype": "text/x-python",
   "name": "python",
   "nbconvert_exporter": "python",
   "pygments_lexer": "ipython3",
   "version": "3.8.3"
  }
 },
 "nbformat": 4,
 "nbformat_minor": 4
}
