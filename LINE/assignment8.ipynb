{
 "cells": [
  {
   "cell_type": "code",
   "execution_count": 3,
   "metadata": {},
   "outputs": [],
   "source": [
    "import pandas as pd\n",
    "import numpy as np\n",
    "import matplotlib.pyplot as plt\n",
    "\n",
    "adj = pd.read_csv('adj.txt', header=None)\n",
    "# make adj matrix\n",
    "adj_matrix = np.zeros((len(adj),len(adj)))\n",
    "for i in range(len(adj)):\n",
    "    for j in range(len(adj)):\n",
    "        if i == j:\n",
    "            continue\n",
    "        if str(j) in adj.iloc[i,0].split(' '):\n",
    "            adj_matrix[i,j] = 1\n",
    "            adj_matrix[j,i] = 1\n",
    "# label            \n",
    "label = np.loadtxt('karate_label.txt')"
   ]
  },
  {
   "cell_type": "code",
   "execution_count": 16,
   "metadata": {},
   "outputs": [],
   "source": [
    "class LINE_first:\n",
    "    def __init__(self,\n",
    "                 adj_matrix,\n",
    "                 embedding_dim=2,\n",
    "                 learning_rate=0.02):\n",
    "        \n",
    "        self.adj_matrix = adj_matrix\n",
    "        self.embedding_dim = embedding_dim\n",
    "        self.learning_rate = learning_rate\n",
    "        \n",
    "        self.w = np.random.rand(len(adj_matrix),embedding_dim)\n",
    "        \n",
    "        self.epoch_loss = 0.0\n",
    "\n",
    "    def _sigmoid(self, a: float)-> float : \n",
    "        p = 1 / (1+np.exp(-a))\n",
    "        return p\n",
    "\n",
    "    def SGD_optim(self):\n",
    "        self.epoch_loss = 0.0\n",
    "        n = len(self.adj_matrix)\n",
    "        total_iter = np.sum(adj_matrix) / 2\n",
    "        for i in range(0,n):\n",
    "            for j in range(i+1, n):\n",
    "                if self.adj_matrix[i,j] == 1:\n",
    "                    p1 = self._sigmoid(np.sum(self.w[i]*self.w[j]))\n",
    "                    self.epoch_loss += - np.log(p1) / total_iter\n",
    "                    self.w[i] += self.learning_rate * (1-p1) * self.w[j]\n",
    "                    self.w[j] += self.learning_rate * (1-p1) * self.w[i]\n",
    "        return self.epoch_loss\n",
    "    \n",
    "    def show_embedding(self):\n",
    "        return self.w"
   ]
  },
  {
   "cell_type": "code",
   "execution_count": 39,
   "metadata": {},
   "outputs": [
    {
     "name": "stdout",
     "output_type": "stream",
     "text": [
      "Epoch = 100 : loss = 0.00567\n",
      "Epoch = 200 : loss = 0.00229\n",
      "Epoch = 300 : loss = 0.00137\n",
      "Epoch = 400 : loss = 0.00096\n",
      "Epoch = 500 : loss = 0.00073\n",
      "Epoch = 600 : loss = 0.00059\n",
      "Epoch = 700 : loss = 0.00049\n",
      "Epoch = 800 : loss = 0.00042\n",
      "Epoch = 900 : loss = 0.00036\n",
      "Epoch = 1000 : loss = 0.00032\n",
      "Epoch = 1100 : loss = 0.00029\n",
      "Epoch = 1200 : loss = 0.00026\n",
      "Epoch = 1300 : loss = 0.00024\n",
      "Epoch = 1400 : loss = 0.00022\n",
      "Epoch = 1500 : loss = 0.00020\n",
      "Epoch = 1600 : loss = 0.00018\n",
      "Epoch = 1700 : loss = 0.00017\n",
      "Epoch = 1800 : loss = 0.00016\n",
      "Epoch = 1900 : loss = 0.00015\n",
      "Epoch = 2000 : loss = 0.00014\n",
      "Epoch = 2100 : loss = 0.00013\n",
      "Epoch = 2200 : loss = 0.00013\n",
      "Epoch = 2300 : loss = 0.00012\n",
      "Epoch = 2400 : loss = 0.00012\n",
      "Epoch = 2500 : loss = 0.00011\n",
      "Epoch = 2600 : loss = 0.00011\n",
      "Epoch = 2700 : loss = 0.00010\n",
      "Epoch = 2800 : loss = 0.00010\n",
      "Epoch = 2900 : loss = 0.00009\n",
      "Epoch = 3000 : loss = 0.00009\n"
     ]
    },
    {
     "data": {
      "text/plain": [
       "[<matplotlib.lines.Line2D at 0x1f0244b3280>]"
      ]
     },
     "execution_count": 39,
     "metadata": {},
     "output_type": "execute_result"
    },
    {
     "data": {
      "image/png": "[encoded data removed]",
      "text/plain": [
       "<Figure size 432x288 with 1 Axes>"
      ]
     },
     "metadata": {
      "needs_background": "light"
     },
     "output_type": "display_data"
    }
   ],
   "source": [
    "line_first_order = LINE_first(adj_matrix, embedding_dim=2, learning_rate=0.05)\n",
    "epoch_losses = []\n",
    "\n",
    "n_epochs = 3000\n",
    "for epoch in range(1, n_epochs+1):\n",
    "    epoch_loss = line_first_order.SGD_optim()\n",
    "    epoch_losses.append(epoch_loss)\n",
    "    if epoch % 100 == 0:\n",
    "        print(f'Epoch = {epoch} : loss = {epoch_loss:.5f}')\n",
    "plt.plot(epoch_losses)"
   ]
  },
  {
   "cell_type": "code",
   "execution_count": 127,
   "metadata": {},
   "outputs": [
    {
     "data": {
      "image/png": "[encoded data removed]",
      "text/plain": [
       "<Figure size 432x288 with 1 Axes>"
      ]
     },
     "metadata": {
      "needs_background": "light"
     },
     "output_type": "display_data"
    }
   ],
   "source": [
    "line_first_emb = line_first_order.show_embedding()\n",
    "\n",
    "plt.title('LINE first order')\n",
    "plt.scatter(line_first_emb[:,0],line_first_emb[:,1], c=list(map(int, label[:,1])))\n",
    "for i in range(0, 34):\n",
    "        plt.text(float(line_first_emb[i,0]), float(line_first_emb[i,1]), i+1 , fontsize=10)\n",
    "plt.show()"
   ]
  },
  {
   "cell_type": "code",
   "execution_count": 122,
   "metadata": {},
   "outputs": [],
   "source": [
    "class LINE_second:\n",
    "    def __init__(self,\n",
    "                 adj_matrix,\n",
    "                 embedding_dim=2,\n",
    "                 learning_rate=0.02):\n",
    "        \n",
    "        self.adj_matrix = adj_matrix\n",
    "        self.embedding_dim = embedding_dim\n",
    "        self.learning_rate = learning_rate\n",
    "        \n",
    "        self.w = np.random.rand(len(adj_matrix),embedding_dim)\n",
    "        self.w_context = np.random.rand(len(adj_matrix),embedding_dim)\n",
    "        \n",
    "        self.epoch_loss = 0.0\n",
    "\n",
    "    def _softmax(self, a: np.array)-> np.array : \n",
    "        c = np.max(a) \n",
    "        exp_a = np.exp(a-c)\n",
    "        sum_exp_a = np.sum(exp_a)\n",
    "        y = exp_a / sum_exp_a\n",
    "        return y\n",
    "\n",
    "    def SGD_optim(self):\n",
    "        self.epoch_loss = 0.0\n",
    "        n = len(self.adj_matrix)\n",
    "        total_iter = np.sum(adj_matrix) / 2\n",
    "        for i in range(0,n):\n",
    "            for j in range(i+1, n):\n",
    "                if self.adj_matrix[i,j] == 1:\n",
    "                    p2_j_given_i = np.exp(self.w[i] @ self.w_context[j]) \\\n",
    "                    / np.sum(np.exp(self.w_context @ self.w[i]))\n",
    "                    self.epoch_loss += - np.log(p2_j_given_i) / total_iter\n",
    "                    w_i_grad = (-self.w_context[j] +\\\n",
    "                                np.exp(self.w_context @ self.w[i]) @ self.w_context/\\\n",
    "                                np.sum(np.exp(self.w_context @ self.w[i])))\n",
    "                    p2_j_given_i_vec = self.w_context @ self.w[i] / np.sum(np.exp(self.w_context @ self.w[i]))\n",
    "                    self.w_context -= self.learning_rate * np.diag(p2_j_given_i_vec) @ np.tile(self.w[i], n).reshape(n,-1)\n",
    "                    self.w_context[j] += self.learning_rate * p2_j_given_i_vec[j] * self.w[i]\n",
    "                    self.w_context[j] -= self.learning_rate * (-(1-p2_j_given_i)*self.w[i])\n",
    "                    self.w[i] -= self.learning_rate * w_i_grad\n",
    "        return self.epoch_loss\n",
    "    \n",
    "    def show_embedding(self):\n",
    "        return self.w"
   ]
  },
  {
   "cell_type": "code",
   "execution_count": 136,
   "metadata": {},
   "outputs": [
    {
     "name": "stdout",
     "output_type": "stream",
     "text": [
      "Epoch = 100 : loss = 3.03237\n",
      "Epoch = 200 : loss = 2.67653\n",
      "Epoch = 300 : loss = 2.57741\n",
      "Epoch = 400 : loss = 2.50791\n",
      "Epoch = 500 : loss = 2.43803\n",
      "Epoch = 600 : loss = 2.38384\n",
      "Epoch = 700 : loss = 2.34833\n",
      "Epoch = 800 : loss = 2.32064\n",
      "Epoch = 900 : loss = 2.29437\n",
      "Epoch = 1000 : loss = 2.26923\n",
      "Epoch = 1100 : loss = 2.24661\n",
      "Epoch = 1200 : loss = 2.22743\n",
      "Epoch = 1300 : loss = 2.21168\n",
      "Epoch = 1400 : loss = 2.19891\n",
      "Epoch = 1500 : loss = 2.18835\n",
      "Epoch = 1600 : loss = 2.17884\n",
      "Epoch = 1700 : loss = 2.16881\n",
      "Epoch = 1800 : loss = 2.15628\n",
      "Epoch = 1900 : loss = 2.13907\n",
      "Epoch = 2000 : loss = 2.11590\n",
      "Epoch = 2100 : loss = 2.08892\n",
      "Epoch = 2200 : loss = 2.06468\n",
      "Epoch = 2300 : loss = 2.04902\n",
      "Epoch = 2400 : loss = 2.04179\n",
      "Epoch = 2500 : loss = 2.03975\n",
      "Epoch = 2600 : loss = 2.04045\n",
      "Epoch = 2700 : loss = 2.04263\n",
      "Epoch = 2800 : loss = 2.04571\n",
      "Epoch = 2900 : loss = 2.04941\n",
      "Epoch = 3000 : loss = 2.05357\n"
     ]
    },
    {
     "data": {
      "text/plain": [
       "[<matplotlib.lines.Line2D at 0x1f025d1e400>]"
      ]
     },
     "execution_count": 136,
     "metadata": {},
     "output_type": "execute_result"
    },
    {
     "data": {
      "image/png": "[encoded data removed]",
      "text/plain": [
       "<Figure size 432x288 with 1 Axes>"
      ]
     },
     "metadata": {
      "needs_background": "light"
     },
     "output_type": "display_data"
    }
   ],
   "source": [
    "line_second_order = LINE_second(adj_matrix, embedding_dim=2, learning_rate=0.002)\n",
    "epoch_losses = []\n",
    "\n",
    "n_epochs = 3000\n",
    "for epoch in range(1, n_epochs+1):\n",
    "    epoch_loss = line_second_order.SGD_optim()\n",
    "    epoch_losses.append(epoch_loss)\n",
    "    if epoch % 100 == 0:\n",
    "        print(f'Epoch = {epoch} : loss = {epoch_loss:.5f}')\n",
    "plt.plot(epoch_losses)"
   ]
  },
  {
   "cell_type": "code",
   "execution_count": 137,
   "metadata": {},
   "outputs": [
    {
     "data": {
      "image/png": "[encoded data removed]",
      "text/plain": [
       "<Figure size 432x288 with 1 Axes>"
      ]
     },
     "metadata": {
      "needs_background": "light"
     },
     "output_type": "display_data"
    }
   ],
   "source": [
    "line_second_emb = line_second_order.show_embedding()\n",
    "\n",
    "plt.title('LINE second order')\n",
    "plt.scatter(line_second_emb[:,0],line_second_emb[:,1], c=list(map(int, label[:,1])))\n",
    "for i in range(0, 34):\n",
    "        plt.text(float(line_second_emb[i,0]), float(line_second_emb[i,1]), i+1 , fontsize=10)\n",
    "plt.show()"
   ]
  }
 ],
 "metadata": {
  "kernelspec": {
   "display_name": "Python 3",
   "language": "python",
   "name": "python3"
  },
  "language_info": {
   "codemirror_mode": {
    "name": "ipython",
    "version": 3
   },
   "file_extension": ".py",
   "mimetype": "text/x-python",
   "name": "python",
   "nbconvert_exporter": "python",
   "pygments_lexer": "ipython3",
   "version": "3.8.3"
  }
 },
 "nbformat": 4,
 "nbformat_minor": 4
}
